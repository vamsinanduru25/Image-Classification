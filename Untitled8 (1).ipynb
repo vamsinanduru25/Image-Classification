{
  "nbformat": 4,
  "nbformat_minor": 0,
  "metadata": {
    "colab": {
      "name": "Untitled8.ipynb",
      "provenance": []
    },
    "kernelspec": {
      "name": "python3",
      "display_name": "Python 3"
    },
    "language_info": {
      "name": "python"
    }
  },
  "cells": [
    {
      "cell_type": "code",
      "metadata": {
        "id": "CnNCYX7zdjZT"
      },
      "source": [
        "import tensorflow as tf\n",
        "from tensorflow.keras import datasets, layers, models\n",
        "import matplotlib.pyplot as plt\n",
        "import numpy as np"
      ],
      "execution_count": 1,
      "outputs": []
    },
    {
      "cell_type": "code",
      "metadata": {
        "colab": {
          "base_uri": "https://localhost:8080/"
        },
        "id": "PrtGAylKfeRZ",
        "outputId": "f2e5a543-fdd7-4225-fa86-889c8d3bdfbc"
      },
      "source": [
        "(x_train, y_train), (x_test, y_test) = datasets.cifar10.load_data()\n",
        "x_train.shape"
      ],
      "execution_count": 3,
      "outputs": [
        {
          "output_type": "stream",
          "name": "stdout",
          "text": [
            "Downloading data from https://www.cs.toronto.edu/~kriz/cifar-10-python.tar.gz\n",
            "170500096/170498071 [==============================] - 2s 0us/step\n",
            "170508288/170498071 [==============================] - 2s 0us/step\n"
          ]
        },
        {
          "output_type": "execute_result",
          "data": {
            "text/plain": [
              "(50000, 32, 32, 3)"
            ]
          },
          "metadata": {},
          "execution_count": 3
        }
      ]
    },
    {
      "cell_type": "code",
      "metadata": {
        "colab": {
          "base_uri": "https://localhost:8080/"
        },
        "id": "L99676PbgM4h",
        "outputId": "d5f24aa5-9b2d-4959-fc11-d9e9775a4261"
      },
      "source": [
        "x_test.shape"
      ],
      "execution_count": 4,
      "outputs": [
        {
          "output_type": "execute_result",
          "data": {
            "text/plain": [
              "(10000, 32, 32, 3)"
            ]
          },
          "metadata": {},
          "execution_count": 4
        }
      ]
    },
    {
      "cell_type": "code",
      "metadata": {
        "colab": {
          "base_uri": "https://localhost:8080/"
        },
        "id": "9SEWnUQUjVHu",
        "outputId": "d8828b66-014a-4260-9e10-e64aa49ac3b3"
      },
      "source": [
        "y_train.shape"
      ],
      "execution_count": 5,
      "outputs": [
        {
          "output_type": "execute_result",
          "data": {
            "text/plain": [
              "(50000, 1)"
            ]
          },
          "metadata": {},
          "execution_count": 5
        }
      ]
    },
    {
      "cell_type": "code",
      "metadata": {
        "colab": {
          "base_uri": "https://localhost:8080/"
        },
        "id": "yRKeX0P1jjrp",
        "outputId": "68328a9d-d2c0-4e34-df69-19135e08558f"
      },
      "source": [
        "y_train[:5]"
      ],
      "execution_count": 6,
      "outputs": [
        {
          "output_type": "execute_result",
          "data": {
            "text/plain": [
              "array([[6],\n",
              "       [9],\n",
              "       [9],\n",
              "       [4],\n",
              "       [1]], dtype=uint8)"
            ]
          },
          "metadata": {},
          "execution_count": 6
        }
      ]
    },
    {
      "cell_type": "code",
      "metadata": {
        "colab": {
          "base_uri": "https://localhost:8080/"
        },
        "id": "jCb6oDLDjpbv",
        "outputId": "b763cacf-da2c-40e8-eee7-fedc6f93c5ca"
      },
      "source": [
        "y_train = y_train.reshape(-1,)\n",
        "y_train[:5]"
      ],
      "execution_count": 7,
      "outputs": [
        {
          "output_type": "execute_result",
          "data": {
            "text/plain": [
              "array([6, 9, 9, 4, 1], dtype=uint8)"
            ]
          },
          "metadata": {},
          "execution_count": 7
        }
      ]
    },
    {
      "cell_type": "code",
      "metadata": {
        "id": "_PIzFV6_j7wS"
      },
      "source": [
        "classes = [\"aeroplane\",\"automobile\",\"bird\",\"cat\",\"deer\",\"dog\",\"frog\",\"horse\",\"ship\",\"truck\"]"
      ],
      "execution_count": 8,
      "outputs": []
    },
    {
      "cell_type": "code",
      "metadata": {
        "id": "0_0ANMCxgP8V"
      },
      "source": [
        "def plot_sample(x, y, index):\n",
        "  plt.figure(figsize = (15,2))\n",
        "  plt.imshow(x[index])\n",
        "  plt.xlabel(classes[y[index]])"
      ],
      "execution_count": 9,
      "outputs": []
    },
    {
      "cell_type": "markdown",
      "metadata": {
        "id": "ik9ugcCgls4e"
      },
      "source": [
        "data exploration part till now"
      ]
    },
    {
      "cell_type": "code",
      "metadata": {
        "colab": {
          "base_uri": "https://localhost:8080/",
          "height": 173
        },
        "id": "VCMGKAynisfE",
        "outputId": "bdcd958e-888b-4064-d7fd-10b24086a53d"
      },
      "source": [
        "plot_sample(x_train, y_train, 0)"
      ],
      "execution_count": 10,
      "outputs": [
        {
          "output_type": "display_data",
          "data": {
            "image/png": "[encoded data removed]",
            "text/plain": [
              "<Figure size 1080x144 with 1 Axes>"
            ]
          },
          "metadata": {
            "needs_background": "light"
          }
        }
      ]
    },
    {
      "cell_type": "code",
      "metadata": {
        "colab": {
          "base_uri": "https://localhost:8080/",
          "height": 173
        },
        "id": "oUb29OdVlxmM",
        "outputId": "b3247c01-d26d-4619-c964-e8b5d3e980a6"
      },
      "source": [
        "plot_sample(x_train, y_train, 3)"
      ],
      "execution_count": 11,
      "outputs": [
        {
          "output_type": "display_data",
          "data": {
            "image/png": "[encoded data removed]",
            "text/plain": [
              "<Figure size 1080x144 with 1 Axes>"
            ]
          },
          "metadata": {
            "needs_background": "light"
          }
        }
      ]
    },
    {
      "cell_type": "code",
      "metadata": {
        "colab": {
          "base_uri": "https://localhost:8080/",
          "height": 173
        },
        "id": "udFUtcBHl2Cd",
        "outputId": "7ed969e3-9039-4673-826d-b4b0a6820f54"
      },
      "source": [
        "plot_sample(x_train, y_train, 9)"
      ],
      "execution_count": 12,
      "outputs": [
        {
          "output_type": "display_data",
          "data": {
            "image/png": "[encoded data removed]",
            "text/plain": [
              "<Figure size 1080x144 with 1 Axes>"
            ]
          },
          "metadata": {
            "needs_background": "light"
          }
        }
      ]
    },
    {
      "cell_type": "markdown",
      "metadata": {
        "id": "MZ9p4yODl6qK"
      },
      "source": [
        "normalisation of data"
      ]
    },
    {
      "cell_type": "code",
      "metadata": {
        "id": "epW40BE6l-Jd"
      },
      "source": [
        "x_train = x_train/255\n",
        "x_test = x_test/255"
      ],
      "execution_count": 13,
      "outputs": []
    },
    {
      "cell_type": "code",
      "metadata": {
        "colab": {
          "base_uri": "https://localhost:8080/"
        },
        "id": "RBLdRdXFp_TJ",
        "outputId": "0acd5a3c-3523-46e1-d09c-426b96eb14f4"
      },
      "source": [
        "ann = models.Sequential([\n",
        "        layers.Flatten(input_shape = (32,32,3)),\n",
        "        layers.Dense(3000, activation='relu'), \n",
        "        layers.Dense(1000, activation='relu'), \n",
        "        layers.Dense(10, activation='sigmoid')])\n",
        "\n",
        "ann.compile(optimizer='SGD', \n",
        "              loss='sparse_categorical_crossentropy', \n",
        "              metrics=['accuracy'])\n",
        "ann.fit(x_train, y_train, epochs=5)"
      ],
      "execution_count": 14,
      "outputs": [
        {
          "output_type": "stream",
          "name": "stdout",
          "text": [
            "Epoch 1/5\n",
            "1563/1563 [==============================] - 107s 68ms/step - loss: 1.8140 - accuracy: 0.3542\n",
            "Epoch 2/5\n",
            "1563/1563 [==============================] - 107s 68ms/step - loss: 1.6286 - accuracy: 0.4253\n",
            "Epoch 3/5\n",
            "1563/1563 [==============================] - 107s 68ms/step - loss: 1.5446 - accuracy: 0.4545\n",
            "Epoch 4/5\n",
            "1563/1563 [==============================] - 106s 68ms/step - loss: 1.4802 - accuracy: 0.4789\n",
            "Epoch 5/5\n",
            "1563/1563 [==============================] - 106s 68ms/step - loss: 1.4347 - accuracy: 0.4939\n"
          ]
        },
        {
          "output_type": "execute_result",
          "data": {
            "text/plain": [
              "<keras.callbacks.History at 0x7f1e94841790>"
            ]
          },
          "metadata": {},
          "execution_count": 14
        }
      ]
    },
    {
      "cell_type": "code",
      "metadata": {
        "colab": {
          "base_uri": "https://localhost:8080/"
        },
        "id": "kNZH2r3hcnqM",
        "outputId": "fed36d2e-93f9-4f74-c7c8-d19037b62dc6"
      },
      "source": [
        " ann.evaluate(x_test,y_test)"
      ],
      "execution_count": 15,
      "outputs": [
        {
          "output_type": "stream",
          "name": "stdout",
          "text": [
            "313/313 [==============================] - 9s 27ms/step - loss: 1.4554 - accuracy: 0.4785\n"
          ]
        },
        {
          "output_type": "execute_result",
          "data": {
            "text/plain": [
              "[1.4553688764572144, 0.47850000858306885]"
            ]
          },
          "metadata": {},
          "execution_count": 15
        }
      ]
    },
    {
      "cell_type": "code",
      "metadata": {
        "colab": {
          "base_uri": "https://localhost:8080/"
        },
        "id": "TGrQKLlllJhS",
        "outputId": "63cf09ac-fba7-4e60-ac60-dedfa206af82"
      },
      "source": [
        "from sklearn.metrics import confusion_matrix , classification_report\n",
        "import numpy as np\n",
        "y_pred = ann.predict(x_test)\n",
        "y_pred_classes = [np.argmax(element) for element in y_pred]\n",
        "print (\"classification_report: \\n\", classification_report(y_test,y_pred_classes))"
      ],
      "execution_count": 16,
      "outputs": [
        {
          "output_type": "stream",
          "name": "stdout",
          "text": [
            "classification_report: \n",
            "               precision    recall  f1-score   support\n",
            "\n",
            "           0       0.55      0.50      0.53      1000\n",
            "           1       0.58      0.66      0.61      1000\n",
            "           2       0.31      0.55      0.40      1000\n",
            "           3       0.33      0.44      0.38      1000\n",
            "           4       0.53      0.24      0.33      1000\n",
            "           5       0.47      0.26      0.33      1000\n",
            "           6       0.56      0.44      0.49      1000\n",
            "           7       0.57      0.53      0.55      1000\n",
            "           8       0.50      0.75      0.60      1000\n",
            "           9       0.64      0.41      0.50      1000\n",
            "\n",
            "    accuracy                           0.48     10000\n",
            "   macro avg       0.51      0.48      0.47     10000\n",
            "weighted avg       0.51      0.48      0.47     10000\n",
            "\n"
          ]
        }
      ]
    },
    {
      "cell_type": "code",
      "metadata": {
        "id": "Z81vf0cWmI6n"
      },
      "source": [
        "cnn = models.Sequential([\n",
        "              #cnn\n",
        "        layers.Conv2D(filters=32, kernel_size=(3,3), activation = 'relu', input_shape=(32,32,3)),\n",
        "        layers.MaxPooling2D(2,2),\n",
        "        layers.Conv2D(filters=64, kernel_size=(3,3), activation = 'relu'),\n",
        "        layers.MaxPooling2D(2,2),\n",
        "              #dense\n",
        "\n",
        "        layers.Flatten(),\n",
        "         \n",
        "        layers.Dense(64, activation='relu'), \n",
        "        layers.Dense(10, activation='softmax')])\n"
      ],
      "execution_count": 20,
      "outputs": []
    },
    {
      "cell_type": "code",
      "metadata": {
        "id": "NkbKkG4ToWHI"
      },
      "source": [
        "cnn.compile(optimizer='adam', \n",
        "              loss='sparse_categorical_crossentropy', \n",
        "              metrics=['accuracy'])"
      ],
      "execution_count": 21,
      "outputs": []
    },
    {
      "cell_type": "code",
      "metadata": {
        "colab": {
          "base_uri": "https://localhost:8080/"
        },
        "id": "e8NdBzdnpFH5",
        "outputId": "7b6f54f1-37ce-48e5-f18c-06caaf95d406"
      },
      "source": [
        "cnn.fit(x_train, y_train, epochs=10)"
      ],
      "execution_count": 22,
      "outputs": [
        {
          "output_type": "stream",
          "name": "stdout",
          "text": [
            "Epoch 1/10\n",
            "1563/1563 [==============================] - 63s 40ms/step - loss: 1.4445 - accuracy: 0.4846\n",
            "Epoch 2/10\n",
            "1563/1563 [==============================] - 62s 40ms/step - loss: 1.0938 - accuracy: 0.6165\n",
            "Epoch 3/10\n",
            "1563/1563 [==============================] - 62s 40ms/step - loss: 0.9696 - accuracy: 0.6636\n",
            "Epoch 4/10\n",
            "1563/1563 [==============================] - 62s 40ms/step - loss: 0.8839 - accuracy: 0.6930\n",
            "Epoch 5/10\n",
            "1563/1563 [==============================] - 62s 40ms/step - loss: 0.8187 - accuracy: 0.7160\n",
            "Epoch 6/10\n",
            "1563/1563 [==============================] - 62s 40ms/step - loss: 0.7664 - accuracy: 0.7350\n",
            "Epoch 7/10\n",
            "1563/1563 [==============================] - 63s 40ms/step - loss: 0.7266 - accuracy: 0.7482\n",
            "Epoch 8/10\n",
            "1563/1563 [==============================] - 62s 40ms/step - loss: 0.6832 - accuracy: 0.7618\n",
            "Epoch 9/10\n",
            "1563/1563 [==============================] - 62s 40ms/step - loss: 0.6442 - accuracy: 0.7769\n",
            "Epoch 10/10\n",
            "1563/1563 [==============================] - 63s 40ms/step - loss: 0.6126 - accuracy: 0.7859\n"
          ]
        },
        {
          "output_type": "execute_result",
          "data": {
            "text/plain": [
              "<keras.callbacks.History at 0x7f1e90e91350>"
            ]
          },
          "metadata": {},
          "execution_count": 22
        }
      ]
    },
    {
      "cell_type": "code",
      "metadata": {
        "colab": {
          "base_uri": "https://localhost:8080/"
        },
        "id": "dvreZk6ipS1Q",
        "outputId": "6769e114-1663-418d-9d68-341519e8b4ec"
      },
      "source": [
        "cnn.evaluate(x_test, y_test)"
      ],
      "execution_count": 24,
      "outputs": [
        {
          "output_type": "stream",
          "name": "stdout",
          "text": [
            "313/313 [==============================] - 4s 12ms/step - loss: 0.9047 - accuracy: 0.7028\n"
          ]
        },
        {
          "output_type": "execute_result",
          "data": {
            "text/plain": [
              "[0.904684841632843, 0.7027999758720398]"
            ]
          },
          "metadata": {},
          "execution_count": 24
        }
      ]
    },
    {
      "cell_type": "code",
      "metadata": {
        "colab": {
          "base_uri": "https://localhost:8080/"
        },
        "id": "Zg2SGWWYpsjF",
        "outputId": "733ca668-e869-4605-a999-648c773d7824"
      },
      "source": [
        "y_test = y_test.reshape(-1,)\n",
        "y_test[:5]"
      ],
      "execution_count": 26,
      "outputs": [
        {
          "output_type": "execute_result",
          "data": {
            "text/plain": [
              "array([3, 8, 8, 0, 6], dtype=uint8)"
            ]
          },
          "metadata": {},
          "execution_count": 26
        }
      ]
    },
    {
      "cell_type": "code",
      "metadata": {
        "colab": {
          "base_uri": "https://localhost:8080/",
          "height": 173
        },
        "id": "FnWteblTp_9c",
        "outputId": "9687cd89-b7bb-4ad7-8f8a-b23fb29c95c2"
      },
      "source": [
        "plot_sample(x_test, y_test, 1)"
      ],
      "execution_count": 27,
      "outputs": [
        {
          "output_type": "display_data",
          "data": {
            "image/png": "[encoded data removed]",
            "text/plain": [
              "<Figure size 1080x144 with 1 Axes>"
            ]
          },
          "metadata": {
            "needs_background": "light"
          }
        }
      ]
    },
    {
      "cell_type": "code",
      "metadata": {
        "colab": {
          "base_uri": "https://localhost:8080/"
        },
        "id": "7sXYPiJ1qR6_",
        "outputId": "0f9fcbd1-b70e-4c99-aff8-b7c283dbc078"
      },
      "source": [
        "y_pred = cnn.predict(x_test)\n",
        "y_pred[:5]"
      ],
      "execution_count": 29,
      "outputs": [
        {
          "output_type": "execute_result",
          "data": {
            "text/plain": [
              "array([[9.6480502e-03, 9.9174283e-04, 7.4262166e-04, 7.1279073e-01,\n",
              "        5.0980877e-03, 8.0179282e-02, 8.8127621e-02, 2.1976519e-05,\n",
              "        8.3888486e-02, 1.8511452e-02],\n",
              "       [6.4082199e-04, 1.2703822e-02, 5.0074793e-04, 1.5130041e-06,\n",
              "        1.7347578e-07, 3.0440026e-07, 2.0518702e-09, 9.6029136e-11,\n",
              "        9.8552459e-01, 6.2805112e-04],\n",
              "       [3.8113181e-02, 7.5355577e-01, 1.7995186e-03, 1.4692608e-03,\n",
              "        1.3311753e-04, 4.2390075e-04, 1.0460170e-04, 1.0827276e-05,\n",
              "        1.8289724e-01, 2.1492574e-02],\n",
              "       [9.0535039e-01, 2.9819021e-02, 1.5215330e-02, 1.6470313e-03,\n",
              "        1.7520279e-03, 2.9966304e-05, 2.4501886e-03, 1.4487371e-05,\n",
              "        4.3192673e-02, 5.2875362e-04],\n",
              "       [1.9320651e-06, 7.6308736e-04, 8.3610853e-03, 2.5284601e-02,\n",
              "        2.0184959e-01, 1.2638697e-03, 7.6209980e-01, 6.4506607e-06,\n",
              "        6.6686189e-05, 3.0291418e-04]], dtype=float32)"
            ]
          },
          "metadata": {},
          "execution_count": 29
        }
      ]
    },
    {
      "cell_type": "code",
      "metadata": {
        "colab": {
          "base_uri": "https://localhost:8080/"
        },
        "id": "lcb7LpVdqiGD",
        "outputId": "6dca4539-211a-428d-e19e-24d3e21f715c"
      },
      "source": [
        "y_classes = [np.argmax(element) for element in y_pred]\n",
        "y_classes[:5]"
      ],
      "execution_count": 31,
      "outputs": [
        {
          "output_type": "execute_result",
          "data": {
            "text/plain": [
              "[3, 8, 1, 0, 6]"
            ]
          },
          "metadata": {},
          "execution_count": 31
        }
      ]
    },
    {
      "cell_type": "code",
      "metadata": {
        "colab": {
          "base_uri": "https://localhost:8080/"
        },
        "id": "6uDYnwfGqrWa",
        "outputId": "09706208-1edd-4ffe-f85f-c9e4c19a0b96"
      },
      "source": [
        "y_test[:5]"
      ],
      "execution_count": 32,
      "outputs": [
        {
          "output_type": "execute_result",
          "data": {
            "text/plain": [
              "array([3, 8, 8, 0, 6], dtype=uint8)"
            ]
          },
          "metadata": {},
          "execution_count": 32
        }
      ]
    },
    {
      "cell_type": "code",
      "metadata": {
        "colab": {
          "base_uri": "https://localhost:8080/",
          "height": 173
        },
        "id": "3ydD1ZJJrV25",
        "outputId": "005a7109-e7ac-4814-9991-40f284a6aa0b"
      },
      "source": [
        "plot_sample(x_test, y_test, 1)"
      ],
      "execution_count": 33,
      "outputs": [
        {
          "output_type": "display_data",
          "data": {
            "image/png": "[encoded data removed]",
            "text/plain": [
              "<Figure size 1080x144 with 1 Axes>"
            ]
          },
          "metadata": {
            "needs_background": "light"
          }
        }
      ]
    },
    {
      "cell_type": "code",
      "metadata": {
        "colab": {
          "base_uri": "https://localhost:8080/",
          "height": 36
        },
        "id": "12m11g7Qr2-y",
        "outputId": "e0c97794-4b8f-4c17-96d5-a6f3be65e024"
      },
      "source": [
        "classes[y_classes[1]]"
      ],
      "execution_count": 35,
      "outputs": [
        {
          "output_type": "execute_result",
          "data": {
            "application/vnd.google.colaboratory.intrinsic+json": {
              "type": "string"
            },
            "text/plain": [
              "'ship'"
            ]
          },
          "metadata": {},
          "execution_count": 35
        }
      ]
    },
    {
      "cell_type": "code",
      "metadata": {
        "colab": {
          "base_uri": "https://localhost:8080/"
        },
        "id": "RCi0E-rTssNy",
        "outputId": "63a030c5-9c8e-4fa6-ac68-7a696d795517"
      },
      "source": [
        "print (\"classification_report: \\n\", classification_report(y_test,y_classes))"
      ],
      "execution_count": 36,
      "outputs": [
        {
          "output_type": "stream",
          "name": "stdout",
          "text": [
            "classification_report: \n",
            "               precision    recall  f1-score   support\n",
            "\n",
            "           0       0.72      0.78      0.75      1000\n",
            "           1       0.77      0.85      0.81      1000\n",
            "           2       0.65      0.59      0.62      1000\n",
            "           3       0.56      0.44      0.49      1000\n",
            "           4       0.72      0.62      0.67      1000\n",
            "           5       0.62      0.57      0.59      1000\n",
            "           6       0.64      0.87      0.74      1000\n",
            "           7       0.75      0.74      0.75      1000\n",
            "           8       0.82      0.80      0.81      1000\n",
            "           9       0.74      0.77      0.76      1000\n",
            "\n",
            "    accuracy                           0.70     10000\n",
            "   macro avg       0.70      0.70      0.70     10000\n",
            "weighted avg       0.70      0.70      0.70     10000\n",
            "\n"
          ]
        }
      ]
    }
  ]
}